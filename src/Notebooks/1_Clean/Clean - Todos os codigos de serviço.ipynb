{
 "cells": [
  {
   "cell_type": "markdown",
   "metadata": {},
   "source": [
    "## Import data"
   ]
  },
  {
   "cell_type": "code",
   "execution_count": 1,
   "metadata": {},
   "outputs": [],
   "source": [
    "import pandas as pd"
   ]
  },
  {
   "cell_type": "code",
   "execution_count": 2,
   "metadata": {},
   "outputs": [],
   "source": [
    "# Create dir\n",
    "\n",
    "from os import mkdir\n",
    "from os import path\n",
    "\n",
    "path_ = \"../../../data/cleandata\"\n",
    "if not path.exists(path_):\n",
    "    mkdir(path_)\n",
    "    \n",
    "path_ = \"../../../data/cleandata/Ordens de serviço\"\n",
    "if not path.exists(path_):\n",
    "    mkdir(path_)"
   ]
  },
  {
   "cell_type": "code",
   "execution_count": 3,
   "metadata": {},
   "outputs": [],
   "source": [
    "os_cod = pd.read_excel('../../../data/rawdata/Ordens de serviço/Todos os codigos de serviço - 01012010 a 30092019.xlsx')"
   ]
  },
  {
   "cell_type": "markdown",
   "metadata": {},
   "source": [
    "## Separate date from data"
   ]
  },
  {
   "cell_type": "code",
   "execution_count": 4,
   "metadata": {},
   "outputs": [],
   "source": [
    "cod_null = os_cod.iloc[:,1:5].isnull().copy(deep = True) # Columns 1:5 are null if (tipo or data)\n",
    "\n",
    "datas_cod = os_cod[cod_null.all(axis='columns')].copy(deep=True)\n",
    "datas_cod = datas_cod[:-2] # Remove last 2 rows\n",
    "\n",
    "dados_cod = os_cod[~cod_null.all(axis='columns')].copy(deep=True)\n",
    "dados_cod.drop(index=[0], inplace=True)"
   ]
  },
  {
   "cell_type": "code",
   "execution_count": 5,
   "metadata": {},
   "outputs": [],
   "source": [
    "tipo_cod = datas_cod[datas_cod['Unnamed: 0'].str.contains(\"-\")]\n",
    "datas_cod = datas_cod[~datas_cod['Unnamed: 0'].str.contains(\"-\")]"
   ]
  },
  {
   "cell_type": "code",
   "execution_count": 6,
   "metadata": {},
   "outputs": [],
   "source": [
    "for i in range(len(tipo_cod.index)):\n",
    "    start = tipo_cod.index[i]\n",
    "    try:\n",
    "        end = tipo_cod.index[i+1]\n",
    "        dados_cod.loc[start:end,'Tipo'] = tipo_cod.iloc[i,0]\n",
    "    except:\n",
    "        end = dados_cod.index[-1]\n",
    "        dados_cod.loc[start:end,'Tipo'] = tipo_cod.iloc[i,0]"
   ]
  },
  {
   "cell_type": "code",
   "execution_count": 7,
   "metadata": {},
   "outputs": [],
   "source": [
    "for i in range(len(datas_cod.index)):\n",
    "    start = datas_cod.index[i]\n",
    "    try:\n",
    "        end = datas_cod.index[i+1]\n",
    "        dados_cod.loc[start:end,'datas'] = datas_cod.iloc[i,0]\n",
    "    except:\n",
    "        end = dados_cod.index[-1]\n",
    "        dados_cod.loc[start:end,'datas'] = datas_cod.iloc[i,0]"
   ]
  },
  {
   "cell_type": "code",
   "execution_count": 8,
   "metadata": {},
   "outputs": [],
   "source": [
    "dados_cod.columns = ['ID?','OS','Hora','Endereco1','Endereco2','?','Comentario1','Comentario2',\n",
    "                     'Status', 'Tipo','Data']"
   ]
  },
  {
   "cell_type": "markdown",
   "metadata": {},
   "source": [
    "# Codigos de Serviço"
   ]
  },
  {
   "cell_type": "code",
   "execution_count": 9,
   "metadata": {},
   "outputs": [],
   "source": [
    "dados_cod.to_csv(\n",
    "    r'../../../data/cleandata/Ordens de serviço/Todos os codigos de serviço - 01012010 a 30092019.csv',\n",
    "    sep=';',\n",
    "    index=False)"
   ]
  }
 ],
 "metadata": {
  "hide_input": false,
  "kernelspec": {
   "display_name": "Python 3 (ipykernel)",
   "language": "python",
   "name": "python3"
  },
  "language_info": {
   "codemirror_mode": {
    "name": "ipython",
    "version": 3
   },
   "file_extension": ".py",
   "mimetype": "text/x-python",
   "name": "python",
   "nbconvert_exporter": "python",
   "pygments_lexer": "ipython3",
   "version": "3.9.7"
  },
  "toc": {
   "base_numbering": 1,
   "nav_menu": {},
   "number_sections": true,
   "sideBar": true,
   "skip_h1_title": false,
   "title_cell": "Table of Contents",
   "title_sidebar": "Contents",
   "toc_cell": false,
   "toc_position": {},
   "toc_section_display": true,
   "toc_window_display": false
  }
 },
 "nbformat": 4,
 "nbformat_minor": 4
}
