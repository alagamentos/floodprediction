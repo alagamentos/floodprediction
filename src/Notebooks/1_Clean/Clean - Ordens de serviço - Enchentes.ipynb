{
 "cells": [
  {
   "cell_type": "markdown",
   "metadata": {},
   "source": [
    "## Import data"
   ]
  },
  {
   "cell_type": "code",
   "execution_count": 1,
   "metadata": {
    "ExecuteTime": {
     "end_time": "2019-10-31T17:14:50.265325Z",
     "start_time": "2019-10-31T17:14:49.301673Z"
    }
   },
   "outputs": [],
   "source": [
    "import pandas as pd"
   ]
  },
  {
   "cell_type": "code",
   "execution_count": 2,
   "metadata": {},
   "outputs": [],
   "source": [
    "# Create dir\n",
    "\n",
    "from os import mkdir\n",
    "from os import path\n",
    "\n",
    "if not path.exists(\"./cleandata\"):\n",
    "    mkdir('./cleandata')\n",
    "    \n",
    "if not path.exists(\"./cleandata/Ordens de serviço\"):\n",
    "    mkdir('./cleandata/Ordens de serviço')"
   ]
  },
  {
   "cell_type": "markdown",
   "metadata": {},
   "source": [
    "## Import data"
   ]
  },
  {
   "cell_type": "code",
   "execution_count": 4,
   "metadata": {
    "ExecuteTime": {
     "end_time": "2019-10-31T17:14:58.016322Z",
     "start_time": "2019-10-31T17:14:51.409083Z"
    }
   },
   "outputs": [],
   "source": [
    "os_raw = pd.read_excel('../../../data/rawdata/Ordens de serviço/Enchentes - 01012010 a 30092019.xlsx')"
   ]
  },
  {
   "cell_type": "markdown",
   "metadata": {},
   "source": [
    "## Separate date from data"
   ]
  },
  {
   "cell_type": "code",
   "execution_count": 5,
   "metadata": {
    "ExecuteTime": {
     "end_time": "2019-10-31T17:14:58.053484Z",
     "start_time": "2019-10-31T17:14:58.018762Z"
    }
   },
   "outputs": [],
   "source": [
    "os_null = os_raw.iloc[:,1:5].isnull().copy(deep = True) # Check if null columns 1:5\n",
    "\n",
    "datas = os_raw[os_null.all(axis='columns')].copy(deep=True)\n",
    "datas = datas.loc[datas['Unnamed: 0'] != '809 - DDC - Enchente / Inundação / Alagamento', :]\n",
    "datas.drop(index=[1947, 1948], inplace=True)\n",
    "\n",
    "dados = os_raw[~os_null.all(axis='columns')].copy(deep=True)\n",
    "dados.drop(index=[0], inplace=True)"
   ]
  },
  {
   "cell_type": "markdown",
   "metadata": {},
   "source": [
    "## Append date on data"
   ]
  },
  {
   "cell_type": "code",
   "execution_count": 6,
   "metadata": {
    "ExecuteTime": {
     "end_time": "2019-10-31T17:14:58.211134Z",
     "start_time": "2019-10-31T17:14:58.055866Z"
    }
   },
   "outputs": [],
   "source": [
    "for i in range(len(datas.index)):\n",
    "    try:\n",
    "        end = datas.index[i+1]\n",
    "        start = datas.index[i]\n",
    "        dados.loc[start:end,'Data'] = datas.iloc[i,0]     \n",
    "    except IndexError:\n",
    "        end = dados.index[-1]\n",
    "        start = datas.index[i]\n",
    "        dados.loc[start:end,'Data'] = datas.iloc[i,0] "
   ]
  },
  {
   "cell_type": "code",
   "execution_count": 7,
   "metadata": {},
   "outputs": [
    {
     "data": {
      "text/html": [
       "<div>\n",
       "<style scoped>\n",
       "    .dataframe tbody tr th:only-of-type {\n",
       "        vertical-align: middle;\n",
       "    }\n",
       "\n",
       "    .dataframe tbody tr th {\n",
       "        vertical-align: top;\n",
       "    }\n",
       "\n",
       "    .dataframe thead th {\n",
       "        text-align: right;\n",
       "    }\n",
       "</style>\n",
       "<table border=\"1\" class=\"dataframe\">\n",
       "  <thead>\n",
       "    <tr style=\"text-align: right;\">\n",
       "      <th></th>\n",
       "      <th>Unnamed: 0</th>\n",
       "      <th>Unnamed: 1</th>\n",
       "      <th>DEFESA CIVIL</th>\n",
       "      <th>Unnamed: 3</th>\n",
       "      <th>Unnamed: 4</th>\n",
       "      <th>Unnamed: 5</th>\n",
       "      <th>Unnamed: 6</th>\n",
       "      <th>Unnamed: 7</th>\n",
       "      <th>Data</th>\n",
       "    </tr>\n",
       "  </thead>\n",
       "  <tbody>\n",
       "    <tr>\n",
       "      <th>1934</th>\n",
       "      <td>NaN</td>\n",
       "      <td>108.536/2.019</td>\n",
       "      <td>09:14:07</td>\n",
       "      <td>RUA  LORENA, 42</td>\n",
       "      <td>VILA ALICE</td>\n",
       "      <td>Tocada a campainha por diversas vezes, ninguém...</td>\n",
       "      <td>SOLICITANTE PEDE VISTORIA URGENTE NOVAMENTE PO...</td>\n",
       "      <td>Encerrada</td>\n",
       "      <td>01/06/2019</td>\n",
       "    </tr>\n",
       "    <tr>\n",
       "      <th>1937</th>\n",
       "      <td>6059017</td>\n",
       "      <td>109.400/2.019</td>\n",
       "      <td>12:00:13</td>\n",
       "      <td>RUA  BOLIVIA, 518 FTE.</td>\n",
       "      <td>PARQUE DAS NACOES</td>\n",
       "      <td>NaN</td>\n",
       "      <td>SOLICITANTE ALEGA INFILTRAÇÃO EM SUA RESIDÊNCI...</td>\n",
       "      <td>Encerrada</td>\n",
       "      <td>03/06/2019</td>\n",
       "    </tr>\n",
       "    <tr>\n",
       "      <th>1940</th>\n",
       "      <td>8022434</td>\n",
       "      <td>124.821/2.019</td>\n",
       "      <td>20:01:18</td>\n",
       "      <td>TRV  RICIERI MAGINE, 46 EDIFICIO VERONA</td>\n",
       "      <td>VILA FRANCISCO MATARA</td>\n",
       "      <td>MUNÍCIPE FEZ CONTATO INFORMANDO QUE NÃO ESTARA...</td>\n",
       "      <td>MUNÍCIPE SOLICITA VISTORIA  NO EDIFÍCIO QUE RE...</td>\n",
       "      <td>Encerrada</td>\n",
       "      <td>26/06/2019</td>\n",
       "    </tr>\n",
       "    <tr>\n",
       "      <th>1943</th>\n",
       "      <td>17149074</td>\n",
       "      <td>130.369/2.019</td>\n",
       "      <td>16:07:33</td>\n",
       "      <td>RUA  LAS PALMAS, 331</td>\n",
       "      <td>VILA PALMARES</td>\n",
       "      <td>NaN</td>\n",
       "      <td>Alagamento em um trecho da rua sobre a faixa d...</td>\n",
       "      <td>Encerrada</td>\n",
       "      <td>04/07/2019</td>\n",
       "    </tr>\n",
       "    <tr>\n",
       "      <th>1946</th>\n",
       "      <td>1125169</td>\n",
       "      <td>170.294/2.019</td>\n",
       "      <td>05:47:23</td>\n",
       "      <td>RUA  ABERNESIA, 61 APTO 07</td>\n",
       "      <td>SANTA MARIA</td>\n",
       "      <td>não é caso de defesa civil srª maria augusta m...</td>\n",
       "      <td>municipe solicita vistoria  em caixa de esgoto...</td>\n",
       "      <td>Encerrada</td>\n",
       "      <td>30/08/2019</td>\n",
       "    </tr>\n",
       "  </tbody>\n",
       "</table>\n",
       "</div>"
      ],
      "text/plain": [
       "     Unnamed: 0     Unnamed: 1 DEFESA CIVIL  \\\n",
       "1934        NaN  108.536/2.019     09:14:07   \n",
       "1937    6059017  109.400/2.019     12:00:13   \n",
       "1940    8022434  124.821/2.019     20:01:18   \n",
       "1943   17149074  130.369/2.019     16:07:33   \n",
       "1946    1125169  170.294/2.019     05:47:23   \n",
       "\n",
       "                                   Unnamed: 3             Unnamed: 4  \\\n",
       "1934                         RUA  LORENA, 42              VILA ALICE   \n",
       "1937                   RUA  BOLIVIA, 518 FTE.      PARQUE DAS NACOES   \n",
       "1940  TRV  RICIERI MAGINE, 46 EDIFICIO VERONA  VILA FRANCISCO MATARA   \n",
       "1943                    RUA  LAS PALMAS, 331           VILA PALMARES   \n",
       "1946               RUA  ABERNESIA, 61 APTO 07            SANTA MARIA   \n",
       "\n",
       "                                             Unnamed: 5  \\\n",
       "1934  Tocada a campainha por diversas vezes, ninguém...   \n",
       "1937                                                NaN   \n",
       "1940  MUNÍCIPE FEZ CONTATO INFORMANDO QUE NÃO ESTARA...   \n",
       "1943                                                NaN   \n",
       "1946  não é caso de defesa civil srª maria augusta m...   \n",
       "\n",
       "                                             Unnamed: 6 Unnamed: 7        Data  \n",
       "1934  SOLICITANTE PEDE VISTORIA URGENTE NOVAMENTE PO...  Encerrada  01/06/2019  \n",
       "1937  SOLICITANTE ALEGA INFILTRAÇÃO EM SUA RESIDÊNCI...  Encerrada  03/06/2019  \n",
       "1940  MUNÍCIPE SOLICITA VISTORIA  NO EDIFÍCIO QUE RE...  Encerrada  26/06/2019  \n",
       "1943  Alagamento em um trecho da rua sobre a faixa d...  Encerrada  04/07/2019  \n",
       "1946  municipe solicita vistoria  em caixa de esgoto...  Encerrada  30/08/2019  "
      ]
     },
     "execution_count": 7,
     "metadata": {},
     "output_type": "execute_result"
    }
   ],
   "source": [
    "dados.tail(5)"
   ]
  },
  {
   "cell_type": "code",
   "execution_count": 8,
   "metadata": {},
   "outputs": [],
   "source": [
    "dados.columns = ['ID1',\n",
    "                 'ID2',\n",
    "                 'Hora',\n",
    "                 'Endereco1',\n",
    "                 'Endereco2',\n",
    "                 'Comentario1',\n",
    "                 'Comentario2',\n",
    "                 'Status',\n",
    "                 'Data']"
   ]
  },
  {
   "cell_type": "code",
   "execution_count": 9,
   "metadata": {},
   "outputs": [
    {
     "data": {
      "text/html": [
       "<div>\n",
       "<style scoped>\n",
       "    .dataframe tbody tr th:only-of-type {\n",
       "        vertical-align: middle;\n",
       "    }\n",
       "\n",
       "    .dataframe tbody tr th {\n",
       "        vertical-align: top;\n",
       "    }\n",
       "\n",
       "    .dataframe thead th {\n",
       "        text-align: right;\n",
       "    }\n",
       "</style>\n",
       "<table border=\"1\" class=\"dataframe\">\n",
       "  <thead>\n",
       "    <tr style=\"text-align: right;\">\n",
       "      <th></th>\n",
       "      <th>ID1</th>\n",
       "      <th>ID2</th>\n",
       "      <th>Hora</th>\n",
       "      <th>Endereco1</th>\n",
       "      <th>Endereco2</th>\n",
       "      <th>Comentario1</th>\n",
       "      <th>Comentario2</th>\n",
       "      <th>Status</th>\n",
       "      <th>Data</th>\n",
       "    </tr>\n",
       "  </thead>\n",
       "  <tbody>\n",
       "    <tr>\n",
       "      <th>3</th>\n",
       "      <td>NaN</td>\n",
       "      <td>003.578/2.010</td>\n",
       "      <td>19:53:42</td>\n",
       "      <td>AVN  MAURICIO DE MEDEIROS - ASS. MARG. GUARARÁ...</td>\n",
       "      <td>JD IRENE</td>\n",
       "      <td>NaN</td>\n",
       "      <td>NaN</td>\n",
       "      <td>Encerrada</td>\n",
       "      <td>07/01/2010</td>\n",
       "    </tr>\n",
       "    <tr>\n",
       "      <th>4</th>\n",
       "      <td>NaN</td>\n",
       "      <td>003.579/2.010</td>\n",
       "      <td>19:57:47</td>\n",
       "      <td>AVN  MAURICIO DE MEDEIROS - ASS. MARG. GUARARÁ...</td>\n",
       "      <td>JD IRENE</td>\n",
       "      <td>NaN</td>\n",
       "      <td>RG - 40490344-7</td>\n",
       "      <td>Encerrada</td>\n",
       "      <td>07/01/2010</td>\n",
       "    </tr>\n",
       "    <tr>\n",
       "      <th>5</th>\n",
       "      <td>16219035</td>\n",
       "      <td>003.595/2.010</td>\n",
       "      <td>21:35:20</td>\n",
       "      <td>RUA  ORATORIO, 5081 MAZUCO MADEIREIRA</td>\n",
       "      <td>BANGU</td>\n",
       "      <td>Comercio fechado Não havia pessoas para abrir ...</td>\n",
       "      <td>NAS PARTES DA ORATORIO.HOUVE ENCHENTENA PARTE ...</td>\n",
       "      <td>Encerrada</td>\n",
       "      <td>07/01/2010</td>\n",
       "    </tr>\n",
       "    <tr>\n",
       "      <th>6</th>\n",
       "      <td>6157056</td>\n",
       "      <td>003.597/2.010</td>\n",
       "      <td>21:39:58</td>\n",
       "      <td>AVN  ESTADOS, DOS, 5911 MAZUCO MADEIREIRA</td>\n",
       "      <td>SANTA TEREZINHA</td>\n",
       "      <td>NaN</td>\n",
       "      <td>ALAGAMENTO,PERDA DE MATERIAL &gt; AZULEJOS  - Ope...</td>\n",
       "      <td>Encerrada</td>\n",
       "      <td>07/01/2010</td>\n",
       "    </tr>\n",
       "    <tr>\n",
       "      <th>7</th>\n",
       "      <td>5076139</td>\n",
       "      <td>003.536/2.010</td>\n",
       "      <td>17:33:30</td>\n",
       "      <td>RUA SEN FLAQUER, 935</td>\n",
       "      <td>CASA BRANCA</td>\n",
       "      <td>NaN</td>\n",
       "      <td>fabrica alagou - Operador: JOSEROS</td>\n",
       "      <td>Encerrada</td>\n",
       "      <td>07/01/2010</td>\n",
       "    </tr>\n",
       "  </tbody>\n",
       "</table>\n",
       "</div>"
      ],
      "text/plain": [
       "        ID1            ID2      Hora  \\\n",
       "3       NaN  003.578/2.010  19:53:42   \n",
       "4       NaN  003.579/2.010  19:57:47   \n",
       "5  16219035  003.595/2.010  21:35:20   \n",
       "6   6157056  003.597/2.010  21:39:58   \n",
       "7   5076139  003.536/2.010  17:33:30   \n",
       "\n",
       "                                           Endereco1        Endereco2  \\\n",
       "3  AVN  MAURICIO DE MEDEIROS - ASS. MARG. GUARARÁ...         JD IRENE   \n",
       "4  AVN  MAURICIO DE MEDEIROS - ASS. MARG. GUARARÁ...         JD IRENE   \n",
       "5              RUA  ORATORIO, 5081 MAZUCO MADEIREIRA            BANGU   \n",
       "6          AVN  ESTADOS, DOS, 5911 MAZUCO MADEIREIRA  SANTA TEREZINHA   \n",
       "7                              RUA SEN FLAQUER, 935       CASA BRANCA   \n",
       "\n",
       "                                         Comentario1  \\\n",
       "3                                                NaN   \n",
       "4                                                NaN   \n",
       "5  Comercio fechado Não havia pessoas para abrir ...   \n",
       "6                                                NaN   \n",
       "7                                                NaN   \n",
       "\n",
       "                                         Comentario2     Status        Data  \n",
       "3                                                NaN  Encerrada  07/01/2010  \n",
       "4                                    RG - 40490344-7  Encerrada  07/01/2010  \n",
       "5  NAS PARTES DA ORATORIO.HOUVE ENCHENTENA PARTE ...  Encerrada  07/01/2010  \n",
       "6  ALAGAMENTO,PERDA DE MATERIAL > AZULEJOS  - Ope...  Encerrada  07/01/2010  \n",
       "7                 fabrica alagou - Operador: JOSEROS  Encerrada  07/01/2010  "
      ]
     },
     "execution_count": 9,
     "metadata": {},
     "output_type": "execute_result"
    }
   ],
   "source": [
    "dados.head()"
   ]
  },
  {
   "cell_type": "code",
   "execution_count": 10,
   "metadata": {},
   "outputs": [],
   "source": [
    "dados = dados.replace({';': ','}, regex=True)"
   ]
  },
  {
   "cell_type": "markdown",
   "metadata": {},
   "source": [
    "# Save data"
   ]
  },
  {
   "cell_type": "code",
   "execution_count": 12,
   "metadata": {
    "ExecuteTime": {
     "end_time": "2019-10-31T17:21:03.416109Z",
     "start_time": "2019-10-31T17:21:03.068831Z"
    }
   },
   "outputs": [],
   "source": [
    "dados.to_csv(\n",
    "    r'../../../data/cleandata/Ordens de serviço/Enchentes - 01012010 a 30092019.csv',\n",
    "    sep=';',\n",
    "    index=False)"
   ]
  }
 ],
 "metadata": {
  "hide_input": false,
  "kernelspec": {
   "display_name": "Python 3 (ipykernel)",
   "language": "python",
   "name": "python3"
  },
  "language_info": {
   "codemirror_mode": {
    "name": "ipython",
    "version": 3
   },
   "file_extension": ".py",
   "mimetype": "text/x-python",
   "name": "python",
   "nbconvert_exporter": "python",
   "pygments_lexer": "ipython3",
   "version": "3.9.7"
  },
  "toc": {
   "base_numbering": 1,
   "nav_menu": {},
   "number_sections": true,
   "sideBar": true,
   "skip_h1_title": false,
   "title_cell": "Table of Contents",
   "title_sidebar": "Contents",
   "toc_cell": false,
   "toc_position": {
    "height": "calc(100% - 180px)",
    "left": "10px",
    "top": "150px",
    "width": "200.475px"
   },
   "toc_section_display": true,
   "toc_window_display": false
  }
 },
 "nbformat": 4,
 "nbformat_minor": 4
}
