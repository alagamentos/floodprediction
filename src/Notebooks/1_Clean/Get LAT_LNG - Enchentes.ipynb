{
 "cells": [
  {
   "cell_type": "code",
   "execution_count": 1,
   "metadata": {},
   "outputs": [],
   "source": [
    "import googlemaps\n",
    "import pandas as pd"
   ]
  },
  {
   "cell_type": "code",
   "execution_count": 2,
   "metadata": {},
   "outputs": [
    {
     "data": {
      "text/html": [
       "<div>\n",
       "<style scoped>\n",
       "    .dataframe tbody tr th:only-of-type {\n",
       "        vertical-align: middle;\n",
       "    }\n",
       "\n",
       "    .dataframe tbody tr th {\n",
       "        vertical-align: top;\n",
       "    }\n",
       "\n",
       "    .dataframe thead th {\n",
       "        text-align: right;\n",
       "    }\n",
       "</style>\n",
       "<table border=\"1\" class=\"dataframe\">\n",
       "  <thead>\n",
       "    <tr style=\"text-align: right;\">\n",
       "      <th></th>\n",
       "      <th>ID1</th>\n",
       "      <th>ID2</th>\n",
       "      <th>Hora</th>\n",
       "      <th>Endereco1</th>\n",
       "      <th>Endereco2</th>\n",
       "      <th>Comentario1</th>\n",
       "      <th>Comentario2</th>\n",
       "      <th>Status</th>\n",
       "      <th>Data</th>\n",
       "    </tr>\n",
       "  </thead>\n",
       "  <tbody>\n",
       "    <tr>\n",
       "      <th>0</th>\n",
       "      <td>NaN</td>\n",
       "      <td>003.578/2.010</td>\n",
       "      <td>19:53:42</td>\n",
       "      <td>AVN  MAURICIO DE MEDEIROS - ASS. MARG. GUARARÁ...</td>\n",
       "      <td>JD IRENE</td>\n",
       "      <td>NaN</td>\n",
       "      <td>NaN</td>\n",
       "      <td>Encerrada</td>\n",
       "      <td>07/01/2010</td>\n",
       "    </tr>\n",
       "    <tr>\n",
       "      <th>1</th>\n",
       "      <td>NaN</td>\n",
       "      <td>003.579/2.010</td>\n",
       "      <td>19:57:47</td>\n",
       "      <td>AVN  MAURICIO DE MEDEIROS - ASS. MARG. GUARARÁ...</td>\n",
       "      <td>JD IRENE</td>\n",
       "      <td>NaN</td>\n",
       "      <td>RG - 40490344-7</td>\n",
       "      <td>Encerrada</td>\n",
       "      <td>07/01/2010</td>\n",
       "    </tr>\n",
       "  </tbody>\n",
       "</table>\n",
       "</div>"
      ],
      "text/plain": [
       "   ID1            ID2      Hora  \\\n",
       "0  NaN  003.578/2.010  19:53:42   \n",
       "1  NaN  003.579/2.010  19:57:47   \n",
       "\n",
       "                                           Endereco1 Endereco2 Comentario1  \\\n",
       "0  AVN  MAURICIO DE MEDEIROS - ASS. MARG. GUARARÁ...  JD IRENE         NaN   \n",
       "1  AVN  MAURICIO DE MEDEIROS - ASS. MARG. GUARARÁ...  JD IRENE         NaN   \n",
       "\n",
       "       Comentario2     Status        Data  \n",
       "0              NaN  Encerrada  07/01/2010  \n",
       "1  RG - 40490344-7  Encerrada  07/01/2010  "
      ]
     },
     "execution_count": 2,
     "metadata": {},
     "output_type": "execute_result"
    }
   ],
   "source": [
    "enchentes = pd.read_csv('../../../data/cleandata/Ordens de serviço/Enchentes - 01012010 a 30092019.csv',\n",
    "                        sep = ';')\n",
    "\n",
    "enchentes.head(2)"
   ]
  },
  {
   "cell_type": "code",
   "execution_count": 3,
   "metadata": {},
   "outputs": [],
   "source": [
    "geocoding_API_key = ''\n",
    "gmaps_geo = googlemaps.Client(key=geocoding_API_key) # Geocoding API"
   ]
  },
  {
   "cell_type": "code",
   "execution_count": 4,
   "metadata": {},
   "outputs": [],
   "source": [
    "def distance(lat2, lon2): \n",
    "          \n",
    "    from math import radians, sin, cos, asin, sqrt\n",
    "    \n",
    "    # The math module contains a function named \n",
    "    # radians which converts from degrees to radians. \n",
    "    lon1 = radians(-46.522956) \n",
    "    lon2 = radians(lon2) \n",
    "    lat1 = radians(-23.661983,) \n",
    "    lat2 = radians(lat2) \n",
    "       \n",
    "    # Haversine formula  \n",
    "    dlon = lon2 - lon1  \n",
    "    dlat = lat2 - lat1 \n",
    "    a = sin(dlat / 2)**2 + cos(lat1) * cos(lat2) * sin(dlon / 2)**2\n",
    "    \n",
    "    c = 2 * asin(sqrt(a))  \n",
    "    # Radius of earth in kilometers. Use 3956 for miles \n",
    "    r = 6371       \n",
    "    # calculate the result \n",
    "    return(c * r) "
   ]
  },
  {
   "cell_type": "code",
   "execution_count": 5,
   "metadata": {},
   "outputs": [
    {
     "name": "stdout",
     "output_type": "stream",
     "text": [
      "1389/ 1390"
     ]
    }
   ],
   "source": [
    "from sys import stdout\n",
    "for index, row in enchentes.iterrows():\n",
    "    stdout.write(f\"\\r{index}/ {len(enchentes)}\")\n",
    "    stdout.flush()\n",
    "    try:\n",
    "        adress = row['Endereco1'] + ', ' + row['Endereco2']  + ', Santo André'\n",
    "        results = gmaps_geo.geocode(adress)\n",
    "        \n",
    "        found_SantoAndre = False\n",
    "        found_SP = False\n",
    "\n",
    "        # Get the closest to Santo Andre from all the search results\n",
    "        dist_list = [distance(result['geometry']['location']['lat'],\n",
    "                              result['geometry']['location']['lng']) for result in results]\n",
    "        min_indx = dist_list.index(min(dist_list))\n",
    "\n",
    "        enchentes.loc[index, 'lat'] = results[min_indx]['geometry']['location']['lat']\n",
    "        enchentes.loc[index, 'lng'] = results[min_indx]['geometry']['location']['lng']\n",
    "        enchentes.loc[index, 'status'] = 0\n",
    "    except:\n",
    "        try:\n",
    "            adress = row['Endereco1'] + ', Santo André'\n",
    "            results = gmaps_geo.geocode(adress)\n",
    "\n",
    "            found_SantoAndre = False\n",
    "            found_SP = False\n",
    "\n",
    "            dist_list = [distance(result['geometry']['location']['lat'],\n",
    "                                  result['geometry']['location']['lng']) for result in results]\n",
    "            min_indx = dist_list.index(min(dist_list))\n",
    "\n",
    "            enchentes.loc[index, 'lat'] = results[min_indx]['geometry']['location']['lat']\n",
    "            enchentes.loc[index, 'lng'] = results[min_indx]['geometry']['location']['lng']\n",
    "            enchentes.loc[index, 'status'] = 1\n",
    "        except:\n",
    "            try:\n",
    "                adress = row['Endereco2'] + ', Santo André'\n",
    "                results = gmaps_geo.geocode(adress)\n",
    "\n",
    "                found_SantoAndre = False\n",
    "                found_SP = False\n",
    "\n",
    "                dist_list = [distance(result['geometry']['location']['lat'],\n",
    "                                      result['geometry']['location']['lng']) for result in results]\n",
    "                min_indx = dist_list.index(min(dist_list))\n",
    "\n",
    "                enchentes.loc[index, 'lat'] = results[min_indx]['geometry']['location']['lat']\n",
    "                enchentes.loc[index, 'lng'] = results[min_indx]['geometry']['location']['lng']\n",
    "                enchentes.loc[index, 'status'] = 2\n",
    "            except:\n",
    "                enchentes.loc[index, 'lat'] = 'Error'\n",
    "                enchentes.loc[index, 'lng'] = 'Error'\n",
    "                enchentes.loc[index, 'status'] = 3\n",
    "                \n",
    "backup = enchentes.copy(deep = True)"
   ]
  },
  {
   "cell_type": "code",
   "execution_count": 6,
   "metadata": {},
   "outputs": [
    {
     "name": "stdout",
     "output_type": "stream",
     "text": [
      "status 0: 1385\n",
      "status 1: 5\n",
      "status 2: 0\n",
      "status 3: 0\n"
     ]
    }
   ],
   "source": [
    "for i in range(4):\n",
    "    len_ = len(backup[backup['status'] == i])\n",
    "    print(f'status {i}: {len_}')"
   ]
  },
  {
   "cell_type": "markdown",
   "metadata": {},
   "source": [
    "# Export"
   ]
  },
  {
   "cell_type": "code",
   "execution_count": 7,
   "metadata": {},
   "outputs": [],
   "source": [
    "backup.to_csv(r'../../../data/cleandata/Ordens de serviço/Enchentes_LatLong.csv', sep=';', index=False)"
   ]
  }
 ],
 "metadata": {
  "hide_input": false,
  "kernelspec": {
   "display_name": "Python 3 (ipykernel)",
   "language": "python",
   "name": "python3"
  },
  "language_info": {
   "codemirror_mode": {
    "name": "ipython",
    "version": 3
   },
   "file_extension": ".py",
   "mimetype": "text/x-python",
   "name": "python",
   "nbconvert_exporter": "python",
   "pygments_lexer": "ipython3",
   "version": "3.9.7"
  },
  "toc": {
   "base_numbering": 1,
   "nav_menu": {},
   "number_sections": true,
   "sideBar": true,
   "skip_h1_title": false,
   "title_cell": "Table of Contents",
   "title_sidebar": "Contents",
   "toc_cell": false,
   "toc_position": {},
   "toc_section_display": true,
   "toc_window_display": false
  }
 },
 "nbformat": 4,
 "nbformat_minor": 4
}
